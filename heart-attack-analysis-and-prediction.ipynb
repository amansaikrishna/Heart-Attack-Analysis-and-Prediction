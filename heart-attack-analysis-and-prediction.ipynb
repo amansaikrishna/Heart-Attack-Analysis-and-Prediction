{
 "cells": [
  {
   "cell_type": "markdown",
   "id": "c6a6714d",
   "metadata": {
    "papermill": {
     "duration": 0.014409,
     "end_time": "2022-09-17T16:33:23.951853",
     "exception": false,
     "start_time": "2022-09-17T16:33:23.937444",
     "status": "completed"
    },
    "tags": []
   },
   "source": [
    "# Heart Attack Analysis & Prediction Dataset"
   ]
  },
  {
   "cell_type": "markdown",
   "id": "a281cee1",
   "metadata": {
    "papermill": {
     "duration": 0.014306,
     "end_time": "2022-09-17T16:33:23.983552",
     "exception": false,
     "start_time": "2022-09-17T16:33:23.969246",
     "status": "completed"
    },
    "tags": []
   },
   "source": [
    "# About this dataset\n",
    "* Age : Age of the patient\n",
    "\n",
    "* Sex : Sex of the patient\n",
    "\n",
    "* exang: exercise induced angina (1 = yes; 0 = no)\n",
    "\n",
    "* ca: number of major vessels (0-3)\n",
    "\n",
    "* cp : Chest Pain type chest pain type\n",
    "\n",
    "    * Value 1: typical angina\n",
    "    * Value 2: atypical angina\n",
    "    * Value 3: non-anginal pain\n",
    "    * Value 4: asymptomatic\n",
    "    * trtbps : resting blood pressure (in mm Hg)\n",
    "\n",
    "* chol : cholestoral in mg/dl fetched via BMI sensor\n",
    "\n",
    "* fbs : (fasting blood sugar > 120 mg/dl) (1 = true; 0 = false)\n",
    "\n",
    "* rest_ecg : resting electrocardiographic results\n",
    "\n",
    "* Value 0: normal\n",
    "* Value 1: having ST-T wave abnormality (T wave inversions and/or ST elevation or depression of > 0.05 mV)\n",
    "* Value 2: showing probable or definite left ventricular hypertrophy by Estes' criteria\n",
    "* thalach : maximum heart rate achieved\n",
    "\n",
    "* target : 0= less chance of heart attack 1= more chance of heart attack"
   ]
  },
  {
   "cell_type": "markdown",
   "id": "c752ccf6",
   "metadata": {
    "papermill": {
     "duration": 0.014309,
     "end_time": "2022-09-17T16:33:24.012246",
     "exception": false,
     "start_time": "2022-09-17T16:33:23.997937",
     "status": "completed"
    },
    "tags": []
   },
   "source": [
    "## Importing the libraries"
   ]
  },
  {
   "cell_type": "code",
   "execution_count": 1,
   "id": "a625e828",
   "metadata": {
    "execution": {
     "iopub.execute_input": "2022-09-17T16:33:24.039611Z",
     "iopub.status.busy": "2022-09-17T16:33:24.038591Z",
     "iopub.status.idle": "2022-09-17T16:33:24.061267Z",
     "shell.execute_reply": "2022-09-17T16:33:24.059777Z"
    },
    "papermill": {
     "duration": 0.038561,
     "end_time": "2022-09-17T16:33:24.064028",
     "exception": false,
     "start_time": "2022-09-17T16:33:24.025467",
     "status": "completed"
    },
    "tags": []
   },
   "outputs": [
    {
     "name": "stdout",
     "output_type": "stream",
     "text": [
      "/kaggle/input/heart-attack-analysis-prediction-dataset/o2Saturation.csv\n",
      "/kaggle/input/heart-attack-analysis-prediction-dataset/heart.csv\n"
     ]
    }
   ],
   "source": [
    "# This Python 3 environment comes with many helpful analytics libraries installed\n",
    "# It is defined by the kaggle/python Docker image: https://github.com/kaggle/docker-python\n",
    "# For example, here's several helpful packages to load\n",
    "\n",
    "import numpy as np # linear algebra\n",
    "import pandas as pd # data processing, CSV file I/O (e.g. pd.read_csv)\n",
    "\n",
    "# Input data files are available in the read-only \"../input/\" directory\n",
    "# For example, running this (by clicking run or pressing Shift+Enter) will list all files under the input directory\n",
    "\n",
    "import os\n",
    "for dirname, _, filenames in os.walk('/kaggle/input'):\n",
    "    for filename in filenames:\n",
    "        print(os.path.join(dirname, filename))\n",
    "\n",
    "# You can write up to 20GB to the current directory (/kaggle/working/) that gets preserved as output when you create a version using \"Save & Run All\" \n",
    "# You can also write temporary files to /kaggle/temp/, but they won't be saved outside of the current session"
   ]
  },
  {
   "cell_type": "code",
   "execution_count": 2,
   "id": "3388797c",
   "metadata": {
    "execution": {
     "iopub.execute_input": "2022-09-17T16:33:24.086311Z",
     "iopub.status.busy": "2022-09-17T16:33:24.085526Z",
     "iopub.status.idle": "2022-09-17T16:33:25.225384Z",
     "shell.execute_reply": "2022-09-17T16:33:25.224411Z"
    },
    "papermill": {
     "duration": 1.154524,
     "end_time": "2022-09-17T16:33:25.228477",
     "exception": false,
     "start_time": "2022-09-17T16:33:24.073953",
     "status": "completed"
    },
    "tags": []
   },
   "outputs": [],
   "source": [
    "import numpy as np\n",
    "import pandas as pd\n",
    "import matplotlib.pyplot as plt\n",
    "import seaborn as sns\n",
    "%matplotlib inline"
   ]
  },
  {
   "cell_type": "markdown",
   "id": "a6fba5f2",
   "metadata": {
    "papermill": {
     "duration": 0.009386,
     "end_time": "2022-09-17T16:33:25.247753",
     "exception": false,
     "start_time": "2022-09-17T16:33:25.238367",
     "status": "completed"
    },
    "tags": []
   },
   "source": [
    "## Reading the dataset"
   ]
  },
  {
   "cell_type": "code",
   "execution_count": 3,
   "id": "fdc90bcf",
   "metadata": {
    "execution": {
     "iopub.execute_input": "2022-09-17T16:33:25.268797Z",
     "iopub.status.busy": "2022-09-17T16:33:25.268398Z",
     "iopub.status.idle": "2022-09-17T16:33:25.289863Z",
     "shell.execute_reply": "2022-09-17T16:33:25.288833Z"
    },
    "papermill": {
     "duration": 0.035087,
     "end_time": "2022-09-17T16:33:25.292500",
     "exception": false,
     "start_time": "2022-09-17T16:33:25.257413",
     "status": "completed"
    },
    "tags": []
   },
   "outputs": [],
   "source": [
    "heart_df=pd.read_csv('../input/heart-attack-analysis-prediction-dataset/heart.csv')\n",
    "o2_df=pd.read_csv('../input/heart-attack-analysis-prediction-dataset/heart.csv')"
   ]
  },
  {
   "cell_type": "code",
   "execution_count": 4,
   "id": "023eec57",
   "metadata": {
    "execution": {
     "iopub.execute_input": "2022-09-17T16:33:25.313580Z",
     "iopub.status.busy": "2022-09-17T16:33:25.313170Z",
     "iopub.status.idle": "2022-09-17T16:33:25.335547Z",
     "shell.execute_reply": "2022-09-17T16:33:25.334754Z"
    },
    "papermill": {
     "duration": 0.035373,
     "end_time": "2022-09-17T16:33:25.337610",
     "exception": false,
     "start_time": "2022-09-17T16:33:25.302237",
     "status": "completed"
    },
    "tags": []
   },
   "outputs": [
    {
     "data": {
      "text/html": [
       "<div>\n",
       "<style scoped>\n",
       "    .dataframe tbody tr th:only-of-type {\n",
       "        vertical-align: middle;\n",
       "    }\n",
       "\n",
       "    .dataframe tbody tr th {\n",
       "        vertical-align: top;\n",
       "    }\n",
       "\n",
       "    .dataframe thead th {\n",
       "        text-align: right;\n",
       "    }\n",
       "</style>\n",
       "<table border=\"1\" class=\"dataframe\">\n",
       "  <thead>\n",
       "    <tr style=\"text-align: right;\">\n",
       "      <th></th>\n",
       "      <th>age</th>\n",
       "      <th>sex</th>\n",
       "      <th>cp</th>\n",
       "      <th>trtbps</th>\n",
       "      <th>chol</th>\n",
       "      <th>fbs</th>\n",
       "      <th>restecg</th>\n",
       "      <th>thalachh</th>\n",
       "      <th>exng</th>\n",
       "      <th>oldpeak</th>\n",
       "      <th>slp</th>\n",
       "      <th>caa</th>\n",
       "      <th>thall</th>\n",
       "      <th>output</th>\n",
       "    </tr>\n",
       "  </thead>\n",
       "  <tbody>\n",
       "    <tr>\n",
       "      <th>0</th>\n",
       "      <td>63</td>\n",
       "      <td>1</td>\n",
       "      <td>3</td>\n",
       "      <td>145</td>\n",
       "      <td>233</td>\n",
       "      <td>1</td>\n",
       "      <td>0</td>\n",
       "      <td>150</td>\n",
       "      <td>0</td>\n",
       "      <td>2.3</td>\n",
       "      <td>0</td>\n",
       "      <td>0</td>\n",
       "      <td>1</td>\n",
       "      <td>1</td>\n",
       "    </tr>\n",
       "    <tr>\n",
       "      <th>1</th>\n",
       "      <td>37</td>\n",
       "      <td>1</td>\n",
       "      <td>2</td>\n",
       "      <td>130</td>\n",
       "      <td>250</td>\n",
       "      <td>0</td>\n",
       "      <td>1</td>\n",
       "      <td>187</td>\n",
       "      <td>0</td>\n",
       "      <td>3.5</td>\n",
       "      <td>0</td>\n",
       "      <td>0</td>\n",
       "      <td>2</td>\n",
       "      <td>1</td>\n",
       "    </tr>\n",
       "    <tr>\n",
       "      <th>2</th>\n",
       "      <td>41</td>\n",
       "      <td>0</td>\n",
       "      <td>1</td>\n",
       "      <td>130</td>\n",
       "      <td>204</td>\n",
       "      <td>0</td>\n",
       "      <td>0</td>\n",
       "      <td>172</td>\n",
       "      <td>0</td>\n",
       "      <td>1.4</td>\n",
       "      <td>2</td>\n",
       "      <td>0</td>\n",
       "      <td>2</td>\n",
       "      <td>1</td>\n",
       "    </tr>\n",
       "    <tr>\n",
       "      <th>3</th>\n",
       "      <td>56</td>\n",
       "      <td>1</td>\n",
       "      <td>1</td>\n",
       "      <td>120</td>\n",
       "      <td>236</td>\n",
       "      <td>0</td>\n",
       "      <td>1</td>\n",
       "      <td>178</td>\n",
       "      <td>0</td>\n",
       "      <td>0.8</td>\n",
       "      <td>2</td>\n",
       "      <td>0</td>\n",
       "      <td>2</td>\n",
       "      <td>1</td>\n",
       "    </tr>\n",
       "    <tr>\n",
       "      <th>4</th>\n",
       "      <td>57</td>\n",
       "      <td>0</td>\n",
       "      <td>0</td>\n",
       "      <td>120</td>\n",
       "      <td>354</td>\n",
       "      <td>0</td>\n",
       "      <td>1</td>\n",
       "      <td>163</td>\n",
       "      <td>1</td>\n",
       "      <td>0.6</td>\n",
       "      <td>2</td>\n",
       "      <td>0</td>\n",
       "      <td>2</td>\n",
       "      <td>1</td>\n",
       "    </tr>\n",
       "  </tbody>\n",
       "</table>\n",
       "</div>"
      ],
      "text/plain": [
       "   age  sex  cp  trtbps  chol  fbs  restecg  thalachh  exng  oldpeak  slp  \\\n",
       "0   63    1   3     145   233    1        0       150     0      2.3    0   \n",
       "1   37    1   2     130   250    0        1       187     0      3.5    0   \n",
       "2   41    0   1     130   204    0        0       172     0      1.4    2   \n",
       "3   56    1   1     120   236    0        1       178     0      0.8    2   \n",
       "4   57    0   0     120   354    0        1       163     1      0.6    2   \n",
       "\n",
       "   caa  thall  output  \n",
       "0    0      1       1  \n",
       "1    0      2       1  \n",
       "2    0      2       1  \n",
       "3    0      2       1  \n",
       "4    0      2       1  "
      ]
     },
     "execution_count": 4,
     "metadata": {},
     "output_type": "execute_result"
    }
   ],
   "source": [
    "heart_df.head()"
   ]
  },
  {
   "cell_type": "code",
   "execution_count": 5,
   "id": "a663dd7c",
   "metadata": {
    "execution": {
     "iopub.execute_input": "2022-09-17T16:33:25.359716Z",
     "iopub.status.busy": "2022-09-17T16:33:25.358955Z",
     "iopub.status.idle": "2022-09-17T16:33:25.374094Z",
     "shell.execute_reply": "2022-09-17T16:33:25.372887Z"
    },
    "papermill": {
     "duration": 0.028904,
     "end_time": "2022-09-17T16:33:25.376494",
     "exception": false,
     "start_time": "2022-09-17T16:33:25.347590",
     "status": "completed"
    },
    "tags": []
   },
   "outputs": [
    {
     "data": {
      "text/html": [
       "<div>\n",
       "<style scoped>\n",
       "    .dataframe tbody tr th:only-of-type {\n",
       "        vertical-align: middle;\n",
       "    }\n",
       "\n",
       "    .dataframe tbody tr th {\n",
       "        vertical-align: top;\n",
       "    }\n",
       "\n",
       "    .dataframe thead th {\n",
       "        text-align: right;\n",
       "    }\n",
       "</style>\n",
       "<table border=\"1\" class=\"dataframe\">\n",
       "  <thead>\n",
       "    <tr style=\"text-align: right;\">\n",
       "      <th></th>\n",
       "      <th>age</th>\n",
       "      <th>sex</th>\n",
       "      <th>cp</th>\n",
       "      <th>trtbps</th>\n",
       "      <th>chol</th>\n",
       "      <th>fbs</th>\n",
       "      <th>restecg</th>\n",
       "      <th>thalachh</th>\n",
       "      <th>exng</th>\n",
       "      <th>oldpeak</th>\n",
       "      <th>slp</th>\n",
       "      <th>caa</th>\n",
       "      <th>thall</th>\n",
       "      <th>output</th>\n",
       "    </tr>\n",
       "  </thead>\n",
       "  <tbody>\n",
       "    <tr>\n",
       "      <th>0</th>\n",
       "      <td>63</td>\n",
       "      <td>1</td>\n",
       "      <td>3</td>\n",
       "      <td>145</td>\n",
       "      <td>233</td>\n",
       "      <td>1</td>\n",
       "      <td>0</td>\n",
       "      <td>150</td>\n",
       "      <td>0</td>\n",
       "      <td>2.3</td>\n",
       "      <td>0</td>\n",
       "      <td>0</td>\n",
       "      <td>1</td>\n",
       "      <td>1</td>\n",
       "    </tr>\n",
       "    <tr>\n",
       "      <th>1</th>\n",
       "      <td>37</td>\n",
       "      <td>1</td>\n",
       "      <td>2</td>\n",
       "      <td>130</td>\n",
       "      <td>250</td>\n",
       "      <td>0</td>\n",
       "      <td>1</td>\n",
       "      <td>187</td>\n",
       "      <td>0</td>\n",
       "      <td>3.5</td>\n",
       "      <td>0</td>\n",
       "      <td>0</td>\n",
       "      <td>2</td>\n",
       "      <td>1</td>\n",
       "    </tr>\n",
       "    <tr>\n",
       "      <th>2</th>\n",
       "      <td>41</td>\n",
       "      <td>0</td>\n",
       "      <td>1</td>\n",
       "      <td>130</td>\n",
       "      <td>204</td>\n",
       "      <td>0</td>\n",
       "      <td>0</td>\n",
       "      <td>172</td>\n",
       "      <td>0</td>\n",
       "      <td>1.4</td>\n",
       "      <td>2</td>\n",
       "      <td>0</td>\n",
       "      <td>2</td>\n",
       "      <td>1</td>\n",
       "    </tr>\n",
       "    <tr>\n",
       "      <th>3</th>\n",
       "      <td>56</td>\n",
       "      <td>1</td>\n",
       "      <td>1</td>\n",
       "      <td>120</td>\n",
       "      <td>236</td>\n",
       "      <td>0</td>\n",
       "      <td>1</td>\n",
       "      <td>178</td>\n",
       "      <td>0</td>\n",
       "      <td>0.8</td>\n",
       "      <td>2</td>\n",
       "      <td>0</td>\n",
       "      <td>2</td>\n",
       "      <td>1</td>\n",
       "    </tr>\n",
       "    <tr>\n",
       "      <th>4</th>\n",
       "      <td>57</td>\n",
       "      <td>0</td>\n",
       "      <td>0</td>\n",
       "      <td>120</td>\n",
       "      <td>354</td>\n",
       "      <td>0</td>\n",
       "      <td>1</td>\n",
       "      <td>163</td>\n",
       "      <td>1</td>\n",
       "      <td>0.6</td>\n",
       "      <td>2</td>\n",
       "      <td>0</td>\n",
       "      <td>2</td>\n",
       "      <td>1</td>\n",
       "    </tr>\n",
       "  </tbody>\n",
       "</table>\n",
       "</div>"
      ],
      "text/plain": [
       "   age  sex  cp  trtbps  chol  fbs  restecg  thalachh  exng  oldpeak  slp  \\\n",
       "0   63    1   3     145   233    1        0       150     0      2.3    0   \n",
       "1   37    1   2     130   250    0        1       187     0      3.5    0   \n",
       "2   41    0   1     130   204    0        0       172     0      1.4    2   \n",
       "3   56    1   1     120   236    0        1       178     0      0.8    2   \n",
       "4   57    0   0     120   354    0        1       163     1      0.6    2   \n",
       "\n",
       "   caa  thall  output  \n",
       "0    0      1       1  \n",
       "1    0      2       1  \n",
       "2    0      2       1  \n",
       "3    0      2       1  \n",
       "4    0      2       1  "
      ]
     },
     "execution_count": 5,
     "metadata": {},
     "output_type": "execute_result"
    }
   ],
   "source": [
    "o2_df.head()"
   ]
  },
  {
   "cell_type": "markdown",
   "id": "a154b29b",
   "metadata": {
    "papermill": {
     "duration": 0.01002,
     "end_time": "2022-09-17T16:33:25.397045",
     "exception": false,
     "start_time": "2022-09-17T16:33:25.387025",
     "status": "completed"
    },
    "tags": []
   },
   "source": [
    "## Exploratory data analysis"
   ]
  },
  {
   "cell_type": "code",
   "execution_count": 6,
   "id": "86e727ef",
   "metadata": {
    "execution": {
     "iopub.execute_input": "2022-09-17T16:33:25.419482Z",
     "iopub.status.busy": "2022-09-17T16:33:25.419016Z",
     "iopub.status.idle": "2022-09-17T16:33:25.478882Z",
     "shell.execute_reply": "2022-09-17T16:33:25.478028Z"
    },
    "papermill": {
     "duration": 0.073779,
     "end_time": "2022-09-17T16:33:25.481058",
     "exception": false,
     "start_time": "2022-09-17T16:33:25.407279",
     "status": "completed"
    },
    "tags": []
   },
   "outputs": [
    {
     "data": {
      "text/html": [
       "<div>\n",
       "<style scoped>\n",
       "    .dataframe tbody tr th:only-of-type {\n",
       "        vertical-align: middle;\n",
       "    }\n",
       "\n",
       "    .dataframe tbody tr th {\n",
       "        vertical-align: top;\n",
       "    }\n",
       "\n",
       "    .dataframe thead th {\n",
       "        text-align: right;\n",
       "    }\n",
       "</style>\n",
       "<table border=\"1\" class=\"dataframe\">\n",
       "  <thead>\n",
       "    <tr style=\"text-align: right;\">\n",
       "      <th></th>\n",
       "      <th>age</th>\n",
       "      <th>sex</th>\n",
       "      <th>cp</th>\n",
       "      <th>trtbps</th>\n",
       "      <th>chol</th>\n",
       "      <th>fbs</th>\n",
       "      <th>restecg</th>\n",
       "      <th>thalachh</th>\n",
       "      <th>exng</th>\n",
       "      <th>oldpeak</th>\n",
       "      <th>slp</th>\n",
       "      <th>caa</th>\n",
       "      <th>thall</th>\n",
       "      <th>output</th>\n",
       "    </tr>\n",
       "  </thead>\n",
       "  <tbody>\n",
       "    <tr>\n",
       "      <th>count</th>\n",
       "      <td>303.000000</td>\n",
       "      <td>303.000000</td>\n",
       "      <td>303.000000</td>\n",
       "      <td>303.000000</td>\n",
       "      <td>303.000000</td>\n",
       "      <td>303.000000</td>\n",
       "      <td>303.000000</td>\n",
       "      <td>303.000000</td>\n",
       "      <td>303.000000</td>\n",
       "      <td>303.000000</td>\n",
       "      <td>303.000000</td>\n",
       "      <td>303.000000</td>\n",
       "      <td>303.000000</td>\n",
       "      <td>303.000000</td>\n",
       "    </tr>\n",
       "    <tr>\n",
       "      <th>mean</th>\n",
       "      <td>54.366337</td>\n",
       "      <td>0.683168</td>\n",
       "      <td>0.966997</td>\n",
       "      <td>131.623762</td>\n",
       "      <td>246.264026</td>\n",
       "      <td>0.148515</td>\n",
       "      <td>0.528053</td>\n",
       "      <td>149.646865</td>\n",
       "      <td>0.326733</td>\n",
       "      <td>1.039604</td>\n",
       "      <td>1.399340</td>\n",
       "      <td>0.729373</td>\n",
       "      <td>2.313531</td>\n",
       "      <td>0.544554</td>\n",
       "    </tr>\n",
       "    <tr>\n",
       "      <th>std</th>\n",
       "      <td>9.082101</td>\n",
       "      <td>0.466011</td>\n",
       "      <td>1.032052</td>\n",
       "      <td>17.538143</td>\n",
       "      <td>51.830751</td>\n",
       "      <td>0.356198</td>\n",
       "      <td>0.525860</td>\n",
       "      <td>22.905161</td>\n",
       "      <td>0.469794</td>\n",
       "      <td>1.161075</td>\n",
       "      <td>0.616226</td>\n",
       "      <td>1.022606</td>\n",
       "      <td>0.612277</td>\n",
       "      <td>0.498835</td>\n",
       "    </tr>\n",
       "    <tr>\n",
       "      <th>min</th>\n",
       "      <td>29.000000</td>\n",
       "      <td>0.000000</td>\n",
       "      <td>0.000000</td>\n",
       "      <td>94.000000</td>\n",
       "      <td>126.000000</td>\n",
       "      <td>0.000000</td>\n",
       "      <td>0.000000</td>\n",
       "      <td>71.000000</td>\n",
       "      <td>0.000000</td>\n",
       "      <td>0.000000</td>\n",
       "      <td>0.000000</td>\n",
       "      <td>0.000000</td>\n",
       "      <td>0.000000</td>\n",
       "      <td>0.000000</td>\n",
       "    </tr>\n",
       "    <tr>\n",
       "      <th>25%</th>\n",
       "      <td>47.500000</td>\n",
       "      <td>0.000000</td>\n",
       "      <td>0.000000</td>\n",
       "      <td>120.000000</td>\n",
       "      <td>211.000000</td>\n",
       "      <td>0.000000</td>\n",
       "      <td>0.000000</td>\n",
       "      <td>133.500000</td>\n",
       "      <td>0.000000</td>\n",
       "      <td>0.000000</td>\n",
       "      <td>1.000000</td>\n",
       "      <td>0.000000</td>\n",
       "      <td>2.000000</td>\n",
       "      <td>0.000000</td>\n",
       "    </tr>\n",
       "    <tr>\n",
       "      <th>50%</th>\n",
       "      <td>55.000000</td>\n",
       "      <td>1.000000</td>\n",
       "      <td>1.000000</td>\n",
       "      <td>130.000000</td>\n",
       "      <td>240.000000</td>\n",
       "      <td>0.000000</td>\n",
       "      <td>1.000000</td>\n",
       "      <td>153.000000</td>\n",
       "      <td>0.000000</td>\n",
       "      <td>0.800000</td>\n",
       "      <td>1.000000</td>\n",
       "      <td>0.000000</td>\n",
       "      <td>2.000000</td>\n",
       "      <td>1.000000</td>\n",
       "    </tr>\n",
       "    <tr>\n",
       "      <th>75%</th>\n",
       "      <td>61.000000</td>\n",
       "      <td>1.000000</td>\n",
       "      <td>2.000000</td>\n",
       "      <td>140.000000</td>\n",
       "      <td>274.500000</td>\n",
       "      <td>0.000000</td>\n",
       "      <td>1.000000</td>\n",
       "      <td>166.000000</td>\n",
       "      <td>1.000000</td>\n",
       "      <td>1.600000</td>\n",
       "      <td>2.000000</td>\n",
       "      <td>1.000000</td>\n",
       "      <td>3.000000</td>\n",
       "      <td>1.000000</td>\n",
       "    </tr>\n",
       "    <tr>\n",
       "      <th>max</th>\n",
       "      <td>77.000000</td>\n",
       "      <td>1.000000</td>\n",
       "      <td>3.000000</td>\n",
       "      <td>200.000000</td>\n",
       "      <td>564.000000</td>\n",
       "      <td>1.000000</td>\n",
       "      <td>2.000000</td>\n",
       "      <td>202.000000</td>\n",
       "      <td>1.000000</td>\n",
       "      <td>6.200000</td>\n",
       "      <td>2.000000</td>\n",
       "      <td>4.000000</td>\n",
       "      <td>3.000000</td>\n",
       "      <td>1.000000</td>\n",
       "    </tr>\n",
       "  </tbody>\n",
       "</table>\n",
       "</div>"
      ],
      "text/plain": [
       "              age         sex          cp      trtbps        chol         fbs  \\\n",
       "count  303.000000  303.000000  303.000000  303.000000  303.000000  303.000000   \n",
       "mean    54.366337    0.683168    0.966997  131.623762  246.264026    0.148515   \n",
       "std      9.082101    0.466011    1.032052   17.538143   51.830751    0.356198   \n",
       "min     29.000000    0.000000    0.000000   94.000000  126.000000    0.000000   \n",
       "25%     47.500000    0.000000    0.000000  120.000000  211.000000    0.000000   \n",
       "50%     55.000000    1.000000    1.000000  130.000000  240.000000    0.000000   \n",
       "75%     61.000000    1.000000    2.000000  140.000000  274.500000    0.000000   \n",
       "max     77.000000    1.000000    3.000000  200.000000  564.000000    1.000000   \n",
       "\n",
       "          restecg    thalachh        exng     oldpeak         slp         caa  \\\n",
       "count  303.000000  303.000000  303.000000  303.000000  303.000000  303.000000   \n",
       "mean     0.528053  149.646865    0.326733    1.039604    1.399340    0.729373   \n",
       "std      0.525860   22.905161    0.469794    1.161075    0.616226    1.022606   \n",
       "min      0.000000   71.000000    0.000000    0.000000    0.000000    0.000000   \n",
       "25%      0.000000  133.500000    0.000000    0.000000    1.000000    0.000000   \n",
       "50%      1.000000  153.000000    0.000000    0.800000    1.000000    0.000000   \n",
       "75%      1.000000  166.000000    1.000000    1.600000    2.000000    1.000000   \n",
       "max      2.000000  202.000000    1.000000    6.200000    2.000000    4.000000   \n",
       "\n",
       "            thall      output  \n",
       "count  303.000000  303.000000  \n",
       "mean     2.313531    0.544554  \n",
       "std      0.612277    0.498835  \n",
       "min      0.000000    0.000000  \n",
       "25%      2.000000    0.000000  \n",
       "50%      2.000000    1.000000  \n",
       "75%      3.000000    1.000000  \n",
       "max      3.000000    1.000000  "
      ]
     },
     "execution_count": 6,
     "metadata": {},
     "output_type": "execute_result"
    }
   ],
   "source": [
    "heart_df.describe()"
   ]
  },
  {
   "cell_type": "code",
   "execution_count": 7,
   "id": "79a17643",
   "metadata": {
    "execution": {
     "iopub.execute_input": "2022-09-17T16:33:25.509646Z",
     "iopub.status.busy": "2022-09-17T16:33:25.508883Z",
     "iopub.status.idle": "2022-09-17T16:33:25.517164Z",
     "shell.execute_reply": "2022-09-17T16:33:25.516317Z"
    },
    "papermill": {
     "duration": 0.023292,
     "end_time": "2022-09-17T16:33:25.519195",
     "exception": false,
     "start_time": "2022-09-17T16:33:25.495903",
     "status": "completed"
    },
    "scrolled": true,
    "tags": []
   },
   "outputs": [
    {
     "data": {
      "text/plain": [
       "age         0\n",
       "sex         0\n",
       "cp          0\n",
       "trtbps      0\n",
       "chol        0\n",
       "fbs         0\n",
       "restecg     0\n",
       "thalachh    0\n",
       "exng        0\n",
       "oldpeak     0\n",
       "slp         0\n",
       "caa         0\n",
       "thall       0\n",
       "output      0\n",
       "dtype: int64"
      ]
     },
     "execution_count": 7,
     "metadata": {},
     "output_type": "execute_result"
    }
   ],
   "source": [
    "heart_df.isna().sum()"
   ]
  },
  {
   "cell_type": "code",
   "execution_count": 8,
   "id": "810f745e",
   "metadata": {
    "execution": {
     "iopub.execute_input": "2022-09-17T16:33:25.553832Z",
     "iopub.status.busy": "2022-09-17T16:33:25.552858Z",
     "iopub.status.idle": "2022-09-17T16:33:25.768268Z",
     "shell.execute_reply": "2022-09-17T16:33:25.767342Z"
    },
    "papermill": {
     "duration": 0.235932,
     "end_time": "2022-09-17T16:33:25.770848",
     "exception": false,
     "start_time": "2022-09-17T16:33:25.534916",
     "status": "completed"
    },
    "tags": []
   },
   "outputs": [
    {
     "data": {
      "text/plain": [
       "<AxesSubplot:xlabel='output', ylabel='count'>"
      ]
     },
     "execution_count": 8,
     "metadata": {},
     "output_type": "execute_result"
    },
    {
     "data": {
      "image/png": "[encoded data removed]",
      "text/plain": [
       "<Figure size 720x432 with 1 Axes>"
      ]
     },
     "metadata": {},
     "output_type": "display_data"
    }
   ],
   "source": [
    "plt.rcParams['figure.figsize']=(10,6)\n",
    "sns.set_style('darkgrid')\n",
    "sns.countplot(x='output',data=heart_df)"
   ]
  },
  {
   "cell_type": "markdown",
   "id": "ee8fed04",
   "metadata": {
    "papermill": {
     "duration": 0.010571,
     "end_time": "2022-09-17T16:33:25.792433",
     "exception": false,
     "start_time": "2022-09-17T16:33:25.781862",
     "status": "completed"
    },
    "tags": []
   },
   "source": [
    "We have more records of heart attack occured instances."
   ]
  },
  {
   "cell_type": "code",
   "execution_count": 9,
   "id": "e38524d6",
   "metadata": {
    "execution": {
     "iopub.execute_input": "2022-09-17T16:33:25.815945Z",
     "iopub.status.busy": "2022-09-17T16:33:25.815544Z",
     "iopub.status.idle": "2022-09-17T16:33:25.995081Z",
     "shell.execute_reply": "2022-09-17T16:33:25.994192Z"
    },
    "papermill": {
     "duration": 0.194181,
     "end_time": "2022-09-17T16:33:25.997545",
     "exception": false,
     "start_time": "2022-09-17T16:33:25.803364",
     "status": "completed"
    },
    "scrolled": true,
    "tags": []
   },
   "outputs": [
    {
     "data": {
      "text/plain": [
       "<AxesSubplot:xlabel='sex', ylabel='count'>"
      ]
     },
     "execution_count": 9,
     "metadata": {},
     "output_type": "execute_result"
    },
    {
     "data": {
      "image/png": "[encoded data removed]",
      "text/plain": [
       "<Figure size 720x432 with 1 Axes>"
      ]
     },
     "metadata": {},
     "output_type": "display_data"
    }
   ],
   "source": [
    "sns.countplot(x='sex',hue='output',data=heart_df)"
   ]
  },
  {
   "cell_type": "markdown",
   "id": "d5c61b8b",
   "metadata": {
    "papermill": {
     "duration": 0.011027,
     "end_time": "2022-09-17T16:33:26.019971",
     "exception": false,
     "start_time": "2022-09-17T16:33:26.008944",
     "status": "completed"
    },
    "tags": []
   },
   "source": [
    "Male are having more chances of a heart attack."
   ]
  },
  {
   "cell_type": "code",
   "execution_count": 10,
   "id": "fc77ac01",
   "metadata": {
    "execution": {
     "iopub.execute_input": "2022-09-17T16:33:26.045196Z",
     "iopub.status.busy": "2022-09-17T16:33:26.044005Z",
     "iopub.status.idle": "2022-09-17T16:33:26.227282Z",
     "shell.execute_reply": "2022-09-17T16:33:26.226421Z"
    },
    "papermill": {
     "duration": 0.198201,
     "end_time": "2022-09-17T16:33:26.229616",
     "exception": false,
     "start_time": "2022-09-17T16:33:26.031415",
     "status": "completed"
    },
    "tags": []
   },
   "outputs": [
    {
     "data": {
      "text/plain": [
       "<AxesSubplot:xlabel='exng', ylabel='count'>"
      ]
     },
     "execution_count": 10,
     "metadata": {},
     "output_type": "execute_result"
    },
    {
     "data": {
      "image/png": "[encoded data removed]",
      "text/plain": [
       "<Figure size 720x432 with 1 Axes>"
      ]
     },
     "metadata": {},
     "output_type": "display_data"
    }
   ],
   "source": [
    "sns.countplot(x='exng',hue='output',data=heart_df)"
   ]
  },
  {
   "cell_type": "markdown",
   "id": "16b98a4b",
   "metadata": {
    "papermill": {
     "duration": 0.011241,
     "end_time": "2022-09-17T16:33:26.252421",
     "exception": false,
     "start_time": "2022-09-17T16:33:26.241180",
     "status": "completed"
    },
    "tags": []
   },
   "source": [
    "There are more chances of getting heart attack when a person is idle."
   ]
  },
  {
   "cell_type": "code",
   "execution_count": 11,
   "id": "dfd01ceb",
   "metadata": {
    "execution": {
     "iopub.execute_input": "2022-09-17T16:33:26.277512Z",
     "iopub.status.busy": "2022-09-17T16:33:26.276830Z",
     "iopub.status.idle": "2022-09-17T16:33:26.450850Z",
     "shell.execute_reply": "2022-09-17T16:33:26.449682Z"
    },
    "papermill": {
     "duration": 0.189224,
     "end_time": "2022-09-17T16:33:26.453244",
     "exception": false,
     "start_time": "2022-09-17T16:33:26.264020",
     "status": "completed"
    },
    "scrolled": true,
    "tags": []
   },
   "outputs": [
    {
     "data": {
      "text/plain": [
       "<AxesSubplot:xlabel='cp', ylabel='count'>"
      ]
     },
     "execution_count": 11,
     "metadata": {},
     "output_type": "execute_result"
    },
    {
     "data": {
      "image/png": "[encoded data removed]",
      "text/plain": [
       "<Figure size 720x432 with 1 Axes>"
      ]
     },
     "metadata": {},
     "output_type": "display_data"
    }
   ],
   "source": [
    "sns.countplot(x='cp',data=heart_df)"
   ]
  },
  {
   "cell_type": "markdown",
   "id": "a8fdef7b",
   "metadata": {
    "papermill": {
     "duration": 0.01181,
     "end_time": "2022-09-17T16:33:26.477255",
     "exception": false,
     "start_time": "2022-09-17T16:33:26.465445",
     "status": "completed"
    },
    "tags": []
   },
   "source": [
    "There are more chances of heart attack when a person is under typical angina i.e under physical exertion or emotional stress."
   ]
  },
  {
   "cell_type": "markdown",
   "id": "b4a2debc",
   "metadata": {
    "papermill": {
     "duration": 0.011609,
     "end_time": "2022-09-17T16:33:26.501331",
     "exception": false,
     "start_time": "2022-09-17T16:33:26.489722",
     "status": "completed"
    },
    "tags": []
   },
   "source": [
    "## Scaling and Spliting the data"
   ]
  },
  {
   "cell_type": "code",
   "execution_count": 12,
   "id": "d8f7706a",
   "metadata": {
    "execution": {
     "iopub.execute_input": "2022-09-17T16:33:26.526689Z",
     "iopub.status.busy": "2022-09-17T16:33:26.526268Z",
     "iopub.status.idle": "2022-09-17T16:33:26.531231Z",
     "shell.execute_reply": "2022-09-17T16:33:26.530120Z"
    },
    "papermill": {
     "duration": 0.020165,
     "end_time": "2022-09-17T16:33:26.533325",
     "exception": false,
     "start_time": "2022-09-17T16:33:26.513160",
     "status": "completed"
    },
    "tags": []
   },
   "outputs": [],
   "source": [
    "cols=heart_df.columns.values"
   ]
  },
  {
   "cell_type": "code",
   "execution_count": 13,
   "id": "0e986f38",
   "metadata": {
    "execution": {
     "iopub.execute_input": "2022-09-17T16:33:26.558796Z",
     "iopub.status.busy": "2022-09-17T16:33:26.558371Z",
     "iopub.status.idle": "2022-09-17T16:33:26.563960Z",
     "shell.execute_reply": "2022-09-17T16:33:26.562783Z"
    },
    "papermill": {
     "duration": 0.02105,
     "end_time": "2022-09-17T16:33:26.566202",
     "exception": false,
     "start_time": "2022-09-17T16:33:26.545152",
     "status": "completed"
    },
    "tags": []
   },
   "outputs": [],
   "source": [
    "cols=np.delete(cols,-1)"
   ]
  },
  {
   "cell_type": "code",
   "execution_count": 14,
   "id": "472d7f4f",
   "metadata": {
    "execution": {
     "iopub.execute_input": "2022-09-17T16:33:26.591970Z",
     "iopub.status.busy": "2022-09-17T16:33:26.591539Z",
     "iopub.status.idle": "2022-09-17T16:33:26.598292Z",
     "shell.execute_reply": "2022-09-17T16:33:26.597197Z"
    },
    "papermill": {
     "duration": 0.022435,
     "end_time": "2022-09-17T16:33:26.600418",
     "exception": false,
     "start_time": "2022-09-17T16:33:26.577983",
     "status": "completed"
    },
    "tags": []
   },
   "outputs": [
    {
     "data": {
      "text/plain": [
       "array(['age', 'sex', 'cp', 'trtbps', 'chol', 'fbs', 'restecg', 'thalachh',\n",
       "       'exng', 'oldpeak', 'slp', 'caa', 'thall'], dtype=object)"
      ]
     },
     "execution_count": 14,
     "metadata": {},
     "output_type": "execute_result"
    }
   ],
   "source": [
    "cols"
   ]
  },
  {
   "cell_type": "code",
   "execution_count": 15,
   "id": "52206c88",
   "metadata": {
    "execution": {
     "iopub.execute_input": "2022-09-17T16:33:26.626975Z",
     "iopub.status.busy": "2022-09-17T16:33:26.625899Z",
     "iopub.status.idle": "2022-09-17T16:33:26.632185Z",
     "shell.execute_reply": "2022-09-17T16:33:26.631356Z"
    },
    "papermill": {
     "duration": 0.021685,
     "end_time": "2022-09-17T16:33:26.634262",
     "exception": false,
     "start_time": "2022-09-17T16:33:26.612577",
     "status": "completed"
    },
    "tags": []
   },
   "outputs": [],
   "source": [
    "X=heart_df.drop(['output'],axis=1)\n",
    "y=heart_df.output"
   ]
  },
  {
   "cell_type": "code",
   "execution_count": 16,
   "id": "dfd82acb",
   "metadata": {
    "execution": {
     "iopub.execute_input": "2022-09-17T16:33:26.660458Z",
     "iopub.status.busy": "2022-09-17T16:33:26.659656Z",
     "iopub.status.idle": "2022-09-17T16:33:26.821076Z",
     "shell.execute_reply": "2022-09-17T16:33:26.819830Z"
    },
    "papermill": {
     "duration": 0.177412,
     "end_time": "2022-09-17T16:33:26.823715",
     "exception": false,
     "start_time": "2022-09-17T16:33:26.646303",
     "status": "completed"
    },
    "tags": []
   },
   "outputs": [],
   "source": [
    "from sklearn.preprocessing import StandardScaler\n",
    "scaler=StandardScaler()\n",
    "scaler.fit(X)\n",
    "scaled_df=pd.DataFrame(scaler.transform(X),columns=cols)"
   ]
  },
  {
   "cell_type": "code",
   "execution_count": 17,
   "id": "43b8dae0",
   "metadata": {
    "execution": {
     "iopub.execute_input": "2022-09-17T16:33:26.849475Z",
     "iopub.status.busy": "2022-09-17T16:33:26.849036Z",
     "iopub.status.idle": "2022-09-17T16:33:26.872835Z",
     "shell.execute_reply": "2022-09-17T16:33:26.871741Z"
    },
    "papermill": {
     "duration": 0.039786,
     "end_time": "2022-09-17T16:33:26.875439",
     "exception": false,
     "start_time": "2022-09-17T16:33:26.835653",
     "status": "completed"
    },
    "tags": []
   },
   "outputs": [
    {
     "data": {
      "text/html": [
       "<div>\n",
       "<style scoped>\n",
       "    .dataframe tbody tr th:only-of-type {\n",
       "        vertical-align: middle;\n",
       "    }\n",
       "\n",
       "    .dataframe tbody tr th {\n",
       "        vertical-align: top;\n",
       "    }\n",
       "\n",
       "    .dataframe thead th {\n",
       "        text-align: right;\n",
       "    }\n",
       "</style>\n",
       "<table border=\"1\" class=\"dataframe\">\n",
       "  <thead>\n",
       "    <tr style=\"text-align: right;\">\n",
       "      <th></th>\n",
       "      <th>age</th>\n",
       "      <th>sex</th>\n",
       "      <th>cp</th>\n",
       "      <th>trtbps</th>\n",
       "      <th>chol</th>\n",
       "      <th>fbs</th>\n",
       "      <th>restecg</th>\n",
       "      <th>thalachh</th>\n",
       "      <th>exng</th>\n",
       "      <th>oldpeak</th>\n",
       "      <th>slp</th>\n",
       "      <th>caa</th>\n",
       "      <th>thall</th>\n",
       "    </tr>\n",
       "  </thead>\n",
       "  <tbody>\n",
       "    <tr>\n",
       "      <th>0</th>\n",
       "      <td>0.952197</td>\n",
       "      <td>0.681005</td>\n",
       "      <td>1.973123</td>\n",
       "      <td>0.763956</td>\n",
       "      <td>-0.256334</td>\n",
       "      <td>2.394438</td>\n",
       "      <td>-1.005832</td>\n",
       "      <td>0.015443</td>\n",
       "      <td>-0.696631</td>\n",
       "      <td>1.087338</td>\n",
       "      <td>-2.274579</td>\n",
       "      <td>-0.714429</td>\n",
       "      <td>-2.148873</td>\n",
       "    </tr>\n",
       "    <tr>\n",
       "      <th>1</th>\n",
       "      <td>-1.915313</td>\n",
       "      <td>0.681005</td>\n",
       "      <td>1.002577</td>\n",
       "      <td>-0.092738</td>\n",
       "      <td>0.072199</td>\n",
       "      <td>-0.417635</td>\n",
       "      <td>0.898962</td>\n",
       "      <td>1.633471</td>\n",
       "      <td>-0.696631</td>\n",
       "      <td>2.122573</td>\n",
       "      <td>-2.274579</td>\n",
       "      <td>-0.714429</td>\n",
       "      <td>-0.512922</td>\n",
       "    </tr>\n",
       "    <tr>\n",
       "      <th>2</th>\n",
       "      <td>-1.474158</td>\n",
       "      <td>-1.468418</td>\n",
       "      <td>0.032031</td>\n",
       "      <td>-0.092738</td>\n",
       "      <td>-0.816773</td>\n",
       "      <td>-0.417635</td>\n",
       "      <td>-1.005832</td>\n",
       "      <td>0.977514</td>\n",
       "      <td>-0.696631</td>\n",
       "      <td>0.310912</td>\n",
       "      <td>0.976352</td>\n",
       "      <td>-0.714429</td>\n",
       "      <td>-0.512922</td>\n",
       "    </tr>\n",
       "    <tr>\n",
       "      <th>3</th>\n",
       "      <td>0.180175</td>\n",
       "      <td>0.681005</td>\n",
       "      <td>0.032031</td>\n",
       "      <td>-0.663867</td>\n",
       "      <td>-0.198357</td>\n",
       "      <td>-0.417635</td>\n",
       "      <td>0.898962</td>\n",
       "      <td>1.239897</td>\n",
       "      <td>-0.696631</td>\n",
       "      <td>-0.206705</td>\n",
       "      <td>0.976352</td>\n",
       "      <td>-0.714429</td>\n",
       "      <td>-0.512922</td>\n",
       "    </tr>\n",
       "    <tr>\n",
       "      <th>4</th>\n",
       "      <td>0.290464</td>\n",
       "      <td>-1.468418</td>\n",
       "      <td>-0.938515</td>\n",
       "      <td>-0.663867</td>\n",
       "      <td>2.082050</td>\n",
       "      <td>-0.417635</td>\n",
       "      <td>0.898962</td>\n",
       "      <td>0.583939</td>\n",
       "      <td>1.435481</td>\n",
       "      <td>-0.379244</td>\n",
       "      <td>0.976352</td>\n",
       "      <td>-0.714429</td>\n",
       "      <td>-0.512922</td>\n",
       "    </tr>\n",
       "    <tr>\n",
       "      <th>...</th>\n",
       "      <td>...</td>\n",
       "      <td>...</td>\n",
       "      <td>...</td>\n",
       "      <td>...</td>\n",
       "      <td>...</td>\n",
       "      <td>...</td>\n",
       "      <td>...</td>\n",
       "      <td>...</td>\n",
       "      <td>...</td>\n",
       "      <td>...</td>\n",
       "      <td>...</td>\n",
       "      <td>...</td>\n",
       "      <td>...</td>\n",
       "    </tr>\n",
       "    <tr>\n",
       "      <th>298</th>\n",
       "      <td>0.290464</td>\n",
       "      <td>-1.468418</td>\n",
       "      <td>-0.938515</td>\n",
       "      <td>0.478391</td>\n",
       "      <td>-0.101730</td>\n",
       "      <td>-0.417635</td>\n",
       "      <td>0.898962</td>\n",
       "      <td>-1.165281</td>\n",
       "      <td>1.435481</td>\n",
       "      <td>-0.724323</td>\n",
       "      <td>-0.649113</td>\n",
       "      <td>-0.714429</td>\n",
       "      <td>1.123029</td>\n",
       "    </tr>\n",
       "    <tr>\n",
       "      <th>299</th>\n",
       "      <td>-1.033002</td>\n",
       "      <td>0.681005</td>\n",
       "      <td>1.973123</td>\n",
       "      <td>-1.234996</td>\n",
       "      <td>0.342756</td>\n",
       "      <td>-0.417635</td>\n",
       "      <td>0.898962</td>\n",
       "      <td>-0.771706</td>\n",
       "      <td>-0.696631</td>\n",
       "      <td>0.138373</td>\n",
       "      <td>-0.649113</td>\n",
       "      <td>-0.714429</td>\n",
       "      <td>1.123029</td>\n",
       "    </tr>\n",
       "    <tr>\n",
       "      <th>300</th>\n",
       "      <td>1.503641</td>\n",
       "      <td>0.681005</td>\n",
       "      <td>-0.938515</td>\n",
       "      <td>0.706843</td>\n",
       "      <td>-1.029353</td>\n",
       "      <td>2.394438</td>\n",
       "      <td>0.898962</td>\n",
       "      <td>-0.378132</td>\n",
       "      <td>-0.696631</td>\n",
       "      <td>2.036303</td>\n",
       "      <td>-0.649113</td>\n",
       "      <td>1.244593</td>\n",
       "      <td>1.123029</td>\n",
       "    </tr>\n",
       "    <tr>\n",
       "      <th>301</th>\n",
       "      <td>0.290464</td>\n",
       "      <td>0.681005</td>\n",
       "      <td>-0.938515</td>\n",
       "      <td>-0.092738</td>\n",
       "      <td>-2.227533</td>\n",
       "      <td>-0.417635</td>\n",
       "      <td>0.898962</td>\n",
       "      <td>-1.515125</td>\n",
       "      <td>1.435481</td>\n",
       "      <td>0.138373</td>\n",
       "      <td>-0.649113</td>\n",
       "      <td>0.265082</td>\n",
       "      <td>1.123029</td>\n",
       "    </tr>\n",
       "    <tr>\n",
       "      <th>302</th>\n",
       "      <td>0.290464</td>\n",
       "      <td>-1.468418</td>\n",
       "      <td>0.032031</td>\n",
       "      <td>-0.092738</td>\n",
       "      <td>-0.198357</td>\n",
       "      <td>-0.417635</td>\n",
       "      <td>-1.005832</td>\n",
       "      <td>1.064975</td>\n",
       "      <td>-0.696631</td>\n",
       "      <td>-0.896862</td>\n",
       "      <td>-0.649113</td>\n",
       "      <td>0.265082</td>\n",
       "      <td>-0.512922</td>\n",
       "    </tr>\n",
       "  </tbody>\n",
       "</table>\n",
       "<p>303 rows × 13 columns</p>\n",
       "</div>"
      ],
      "text/plain": [
       "          age       sex        cp    trtbps      chol       fbs   restecg  \\\n",
       "0    0.952197  0.681005  1.973123  0.763956 -0.256334  2.394438 -1.005832   \n",
       "1   -1.915313  0.681005  1.002577 -0.092738  0.072199 -0.417635  0.898962   \n",
       "2   -1.474158 -1.468418  0.032031 -0.092738 -0.816773 -0.417635 -1.005832   \n",
       "3    0.180175  0.681005  0.032031 -0.663867 -0.198357 -0.417635  0.898962   \n",
       "4    0.290464 -1.468418 -0.938515 -0.663867  2.082050 -0.417635  0.898962   \n",
       "..        ...       ...       ...       ...       ...       ...       ...   \n",
       "298  0.290464 -1.468418 -0.938515  0.478391 -0.101730 -0.417635  0.898962   \n",
       "299 -1.033002  0.681005  1.973123 -1.234996  0.342756 -0.417635  0.898962   \n",
       "300  1.503641  0.681005 -0.938515  0.706843 -1.029353  2.394438  0.898962   \n",
       "301  0.290464  0.681005 -0.938515 -0.092738 -2.227533 -0.417635  0.898962   \n",
       "302  0.290464 -1.468418  0.032031 -0.092738 -0.198357 -0.417635 -1.005832   \n",
       "\n",
       "     thalachh      exng   oldpeak       slp       caa     thall  \n",
       "0    0.015443 -0.696631  1.087338 -2.274579 -0.714429 -2.148873  \n",
       "1    1.633471 -0.696631  2.122573 -2.274579 -0.714429 -0.512922  \n",
       "2    0.977514 -0.696631  0.310912  0.976352 -0.714429 -0.512922  \n",
       "3    1.239897 -0.696631 -0.206705  0.976352 -0.714429 -0.512922  \n",
       "4    0.583939  1.435481 -0.379244  0.976352 -0.714429 -0.512922  \n",
       "..        ...       ...       ...       ...       ...       ...  \n",
       "298 -1.165281  1.435481 -0.724323 -0.649113 -0.714429  1.123029  \n",
       "299 -0.771706 -0.696631  0.138373 -0.649113 -0.714429  1.123029  \n",
       "300 -0.378132 -0.696631  2.036303 -0.649113  1.244593  1.123029  \n",
       "301 -1.515125  1.435481  0.138373 -0.649113  0.265082  1.123029  \n",
       "302  1.064975 -0.696631 -0.896862 -0.649113  0.265082 -0.512922  \n",
       "\n",
       "[303 rows x 13 columns]"
      ]
     },
     "execution_count": 17,
     "metadata": {},
     "output_type": "execute_result"
    }
   ],
   "source": [
    "scaled_df"
   ]
  },
  {
   "cell_type": "code",
   "execution_count": 18,
   "id": "b2e82d55",
   "metadata": {
    "execution": {
     "iopub.execute_input": "2022-09-17T16:33:26.902689Z",
     "iopub.status.busy": "2022-09-17T16:33:26.902276Z",
     "iopub.status.idle": "2022-09-17T16:33:26.969711Z",
     "shell.execute_reply": "2022-09-17T16:33:26.968400Z"
    },
    "papermill": {
     "duration": 0.084128,
     "end_time": "2022-09-17T16:33:26.972516",
     "exception": false,
     "start_time": "2022-09-17T16:33:26.888388",
     "status": "completed"
    },
    "tags": []
   },
   "outputs": [],
   "source": [
    "from sklearn.model_selection import train_test_split\n",
    "X_train,X_test,y_train,y_test=train_test_split(scaled_df,y,test_size=0.2,random_state=42)"
   ]
  },
  {
   "cell_type": "markdown",
   "id": "e9c5c3bc",
   "metadata": {
    "papermill": {
     "duration": 0.012237,
     "end_time": "2022-09-17T16:33:26.997199",
     "exception": false,
     "start_time": "2022-09-17T16:33:26.984962",
     "status": "completed"
    },
    "tags": []
   },
   "source": [
    "## Building and Training the model"
   ]
  },
  {
   "cell_type": "markdown",
   "id": "1bb93cc9",
   "metadata": {
    "papermill": {
     "duration": 0.011912,
     "end_time": "2022-09-17T16:33:27.021408",
     "exception": false,
     "start_time": "2022-09-17T16:33:27.009496",
     "status": "completed"
    },
    "tags": []
   },
   "source": [
    "### Logistic Regression"
   ]
  },
  {
   "cell_type": "code",
   "execution_count": 19,
   "id": "30c354dd",
   "metadata": {
    "execution": {
     "iopub.execute_input": "2022-09-17T16:33:27.048195Z",
     "iopub.status.busy": "2022-09-17T16:33:27.047768Z",
     "iopub.status.idle": "2022-09-17T16:33:27.143600Z",
     "shell.execute_reply": "2022-09-17T16:33:27.142583Z"
    },
    "papermill": {
     "duration": 0.112607,
     "end_time": "2022-09-17T16:33:27.146389",
     "exception": false,
     "start_time": "2022-09-17T16:33:27.033782",
     "status": "completed"
    },
    "tags": []
   },
   "outputs": [],
   "source": [
    "from sklearn.linear_model import LogisticRegression\n",
    "lr=LogisticRegression()\n",
    "lr.fit(X_train,y_train)\n",
    "y_preds_lr=lr.predict(X_test)"
   ]
  },
  {
   "cell_type": "markdown",
   "id": "c2f18d2a",
   "metadata": {
    "papermill": {
     "duration": 0.012013,
     "end_time": "2022-09-17T16:33:27.170679",
     "exception": false,
     "start_time": "2022-09-17T16:33:27.158666",
     "status": "completed"
    },
    "tags": []
   },
   "source": [
    "### K Neighbors Classifier"
   ]
  },
  {
   "cell_type": "code",
   "execution_count": 20,
   "id": "65d07648",
   "metadata": {
    "execution": {
     "iopub.execute_input": "2022-09-17T16:33:27.197088Z",
     "iopub.status.busy": "2022-09-17T16:33:27.196685Z",
     "iopub.status.idle": "2022-09-17T16:33:27.264535Z",
     "shell.execute_reply": "2022-09-17T16:33:27.263468Z"
    },
    "papermill": {
     "duration": 0.084199,
     "end_time": "2022-09-17T16:33:27.267227",
     "exception": false,
     "start_time": "2022-09-17T16:33:27.183028",
     "status": "completed"
    },
    "tags": []
   },
   "outputs": [],
   "source": [
    "from sklearn.neighbors import KNeighborsClassifier\n",
    "knn=KNeighborsClassifier()\n",
    "knn.fit(X_train,y_train)\n",
    "y_preds_knn=knn.predict(X_test)"
   ]
  },
  {
   "cell_type": "markdown",
   "id": "f301fb2b",
   "metadata": {
    "papermill": {
     "duration": 0.012125,
     "end_time": "2022-09-17T16:33:27.291666",
     "exception": false,
     "start_time": "2022-09-17T16:33:27.279541",
     "status": "completed"
    },
    "tags": []
   },
   "source": [
    "### Gaussian Naive Bayes"
   ]
  },
  {
   "cell_type": "code",
   "execution_count": 21,
   "id": "7742e0a9",
   "metadata": {
    "execution": {
     "iopub.execute_input": "2022-09-17T16:33:27.318391Z",
     "iopub.status.busy": "2022-09-17T16:33:27.317608Z",
     "iopub.status.idle": "2022-09-17T16:33:27.329631Z",
     "shell.execute_reply": "2022-09-17T16:33:27.328637Z"
    },
    "papermill": {
     "duration": 0.027736,
     "end_time": "2022-09-17T16:33:27.331896",
     "exception": false,
     "start_time": "2022-09-17T16:33:27.304160",
     "status": "completed"
    },
    "tags": []
   },
   "outputs": [],
   "source": [
    "from sklearn.naive_bayes import GaussianNB\n",
    "gnb=GaussianNB()\n",
    "gnb.fit(X_train,y_train)\n",
    "y_preds_gnb=gnb.predict(X_test)"
   ]
  },
  {
   "cell_type": "markdown",
   "id": "051d0679",
   "metadata": {
    "papermill": {
     "duration": 0.011891,
     "end_time": "2022-09-17T16:33:27.356275",
     "exception": false,
     "start_time": "2022-09-17T16:33:27.344384",
     "status": "completed"
    },
    "tags": []
   },
   "source": [
    "### Decision Tree Classifier"
   ]
  },
  {
   "cell_type": "code",
   "execution_count": 22,
   "id": "944ddd12",
   "metadata": {
    "execution": {
     "iopub.execute_input": "2022-09-17T16:33:27.382765Z",
     "iopub.status.busy": "2022-09-17T16:33:27.381989Z",
     "iopub.status.idle": "2022-09-17T16:33:27.421462Z",
     "shell.execute_reply": "2022-09-17T16:33:27.420449Z"
    },
    "papermill": {
     "duration": 0.0554,
     "end_time": "2022-09-17T16:33:27.423867",
     "exception": false,
     "start_time": "2022-09-17T16:33:27.368467",
     "status": "completed"
    },
    "tags": []
   },
   "outputs": [],
   "source": [
    "from sklearn.tree import DecisionTreeClassifier\n",
    "dt=DecisionTreeClassifier()\n",
    "dt.fit(X_train,y_train)\n",
    "y_preds_dt=dt.predict(X_test)"
   ]
  },
  {
   "cell_type": "markdown",
   "id": "ff338b71",
   "metadata": {
    "papermill": {
     "duration": 0.011894,
     "end_time": "2022-09-17T16:33:27.448137",
     "exception": false,
     "start_time": "2022-09-17T16:33:27.436243",
     "status": "completed"
    },
    "tags": []
   },
   "source": [
    "### Support Vector Machine"
   ]
  },
  {
   "cell_type": "code",
   "execution_count": 23,
   "id": "76368a2b",
   "metadata": {
    "execution": {
     "iopub.execute_input": "2022-09-17T16:33:27.475238Z",
     "iopub.status.busy": "2022-09-17T16:33:27.474455Z",
     "iopub.status.idle": "2022-09-17T16:33:27.489347Z",
     "shell.execute_reply": "2022-09-17T16:33:27.487964Z"
    },
    "papermill": {
     "duration": 0.031286,
     "end_time": "2022-09-17T16:33:27.492160",
     "exception": false,
     "start_time": "2022-09-17T16:33:27.460874",
     "status": "completed"
    },
    "tags": []
   },
   "outputs": [],
   "source": [
    "from sklearn.svm import SVC\n",
    "svm=SVC()\n",
    "svm.fit(X_train,y_train)\n",
    "y_preds_svm=svm.predict(X_test)"
   ]
  },
  {
   "cell_type": "markdown",
   "id": "ff6aa2ce",
   "metadata": {
    "papermill": {
     "duration": 0.01224,
     "end_time": "2022-09-17T16:33:27.516934",
     "exception": false,
     "start_time": "2022-09-17T16:33:27.504694",
     "status": "completed"
    },
    "tags": []
   },
   "source": [
    "### Random Forest Classifier"
   ]
  },
  {
   "cell_type": "code",
   "execution_count": 24,
   "id": "787a62ab",
   "metadata": {
    "execution": {
     "iopub.execute_input": "2022-09-17T16:33:27.543920Z",
     "iopub.status.busy": "2022-09-17T16:33:27.542929Z",
     "iopub.status.idle": "2022-09-17T16:33:27.786892Z",
     "shell.execute_reply": "2022-09-17T16:33:27.785580Z"
    },
    "papermill": {
     "duration": 0.260461,
     "end_time": "2022-09-17T16:33:27.789747",
     "exception": false,
     "start_time": "2022-09-17T16:33:27.529286",
     "status": "completed"
    },
    "tags": []
   },
   "outputs": [],
   "source": [
    "from sklearn.ensemble import RandomForestClassifier\n",
    "rf=RandomForestClassifier()\n",
    "rf.fit(X_train,y_train)\n",
    "y_preds_rf=rf.predict(X_test)"
   ]
  },
  {
   "cell_type": "markdown",
   "id": "42ed0351",
   "metadata": {
    "papermill": {
     "duration": 0.011994,
     "end_time": "2022-09-17T16:33:27.814179",
     "exception": false,
     "start_time": "2022-09-17T16:33:27.802185",
     "status": "completed"
    },
    "tags": []
   },
   "source": [
    "### XG Boost Classifier"
   ]
  },
  {
   "cell_type": "code",
   "execution_count": 25,
   "id": "dadddcdc",
   "metadata": {
    "execution": {
     "iopub.execute_input": "2022-09-17T16:33:27.841145Z",
     "iopub.status.busy": "2022-09-17T16:33:27.840494Z",
     "iopub.status.idle": "2022-09-17T16:33:28.229422Z",
     "shell.execute_reply": "2022-09-17T16:33:28.228478Z"
    },
    "papermill": {
     "duration": 0.405822,
     "end_time": "2022-09-17T16:33:28.232348",
     "exception": false,
     "start_time": "2022-09-17T16:33:27.826526",
     "status": "completed"
    },
    "tags": []
   },
   "outputs": [],
   "source": [
    "from xgboost import XGBClassifier\n",
    "xgb=XGBClassifier()\n",
    "xgb.fit(X_train,y_train)\n",
    "y_preds_xgb=xgb.predict(X_test)"
   ]
  },
  {
   "cell_type": "markdown",
   "id": "6d1f6d24",
   "metadata": {
    "papermill": {
     "duration": 0.01196,
     "end_time": "2022-09-17T16:33:28.259143",
     "exception": false,
     "start_time": "2022-09-17T16:33:28.247183",
     "status": "completed"
    },
    "tags": []
   },
   "source": [
    "## Evaluating the models"
   ]
  },
  {
   "cell_type": "code",
   "execution_count": 26,
   "id": "ed142271",
   "metadata": {
    "execution": {
     "iopub.execute_input": "2022-09-17T16:33:28.285530Z",
     "iopub.status.busy": "2022-09-17T16:33:28.284874Z",
     "iopub.status.idle": "2022-09-17T16:33:28.294215Z",
     "shell.execute_reply": "2022-09-17T16:33:28.293404Z"
    },
    "papermill": {
     "duration": 0.024925,
     "end_time": "2022-09-17T16:33:28.296325",
     "exception": false,
     "start_time": "2022-09-17T16:33:28.271400",
     "status": "completed"
    },
    "tags": []
   },
   "outputs": [],
   "source": [
    "from sklearn.metrics import accuracy_score\n",
    "lr_score=accuracy_score(y_test,y_preds_lr)*100\n",
    "knn_score=accuracy_score(y_test,y_preds_knn)*100\n",
    "gnb_score=accuracy_score(y_test,y_preds_gnb)*100\n",
    "dt_score=accuracy_score(y_test,y_preds_dt)*100\n",
    "svm_score=accuracy_score(y_test,y_preds_svm)*100\n",
    "rf_score=accuracy_score(y_test,y_preds_rf)*100\n",
    "xgb_score=accuracy_score(y_test,y_preds_xgb)*100"
   ]
  },
  {
   "cell_type": "code",
   "execution_count": 27,
   "id": "6a803166",
   "metadata": {
    "execution": {
     "iopub.execute_input": "2022-09-17T16:33:28.322650Z",
     "iopub.status.busy": "2022-09-17T16:33:28.322259Z",
     "iopub.status.idle": "2022-09-17T16:33:28.332584Z",
     "shell.execute_reply": "2022-09-17T16:33:28.331317Z"
    },
    "papermill": {
     "duration": 0.026404,
     "end_time": "2022-09-17T16:33:28.335200",
     "exception": false,
     "start_time": "2022-09-17T16:33:28.308796",
     "status": "completed"
    },
    "tags": []
   },
   "outputs": [
    {
     "name": "stdout",
     "output_type": "stream",
     "text": [
      "                   Model  Accuracy Score\n",
      "     K Nearest Neighbors       91.803279\n",
      "    Gaussian Naive Bayes       86.885246\n",
      "  Support Vector Machine       86.885246\n",
      "     Logistic Regression       85.245902\n",
      "Random Forest Classifier       85.245902\n",
      "           Decision Tree       81.967213\n",
      "                XG Boost       81.967213\n"
     ]
    }
   ],
   "source": [
    "results=pd.DataFrame({\n",
    "      'Model': ['Logistic Regression','K Nearest Neighbors','Gaussian Naive Bayes','Decision Tree','Support Vector Machine','Random Forest Classifier','XG Boost'],\n",
    "    'Accuracy Score': [lr_score,knn_score,gnb_score,dt_score,svm_score,rf_score,xgb_score]\n",
    "\n",
    "})\n",
    "results_df=results.sort_values(by='Accuracy Score',ascending=False)\n",
    "#results_df=results.set_index('Model')\n",
    "print(results_df.to_string(index=False))"
   ]
  },
  {
   "cell_type": "markdown",
   "id": "b174ca38",
   "metadata": {
    "papermill": {
     "duration": 0.012117,
     "end_time": "2022-09-17T16:33:28.359902",
     "exception": false,
     "start_time": "2022-09-17T16:33:28.347785",
     "status": "completed"
    },
    "tags": []
   },
   "source": [
    "K Nearest Neighbors Classifier performed more accurately than others."
   ]
  },
  {
   "cell_type": "markdown",
   "id": "46011622",
   "metadata": {
    "papermill": {
     "duration": 0.012095,
     "end_time": "2022-09-17T16:33:28.384450",
     "exception": false,
     "start_time": "2022-09-17T16:33:28.372355",
     "status": "completed"
    },
    "tags": []
   },
   "source": [
    "We can also include Saturation Values in the dataset if we want."
   ]
  }
 ],
 "metadata": {
  "kernelspec": {
   "display_name": "Python 3",
   "language": "python",
   "name": "python3"
  },
  "language_info": {
   "codemirror_mode": {
    "name": "ipython",
    "version": 3
   },
   "file_extension": ".py",
   "mimetype": "text/x-python",
   "name": "python",
   "nbconvert_exporter": "python",
   "pygments_lexer": "ipython3",
   "version": "3.7.12"
  },
  "papermill": {
   "default_parameters": {},
   "duration": 14.528744,
   "end_time": "2022-09-17T16:33:29.219092",
   "environment_variables": {},
   "exception": null,
   "input_path": "__notebook__.ipynb",
   "output_path": "__notebook__.ipynb",
   "parameters": {},
   "start_time": "2022-09-17T16:33:14.690348",
   "version": "2.3.4"
  }
 },
 "nbformat": 4,
 "nbformat_minor": 5
}
